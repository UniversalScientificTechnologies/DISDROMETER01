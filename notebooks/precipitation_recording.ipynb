{
 "cells": [
  {
   "cell_type": "markdown",
   "metadata": {},
   "source": [
    "# Recording"
   ]
  },
  {
   "cell_type": "code",
   "execution_count": 5,
   "metadata": {},
   "outputs": [
    {
     "name": "stdout",
     "output_type": "stream",
     "text": [
      "SDR Widget: 6\n",
      "recording...\n",
      "finished recording\n"
     ]
    }
   ],
   "source": [
    "import pyaudio\n",
    "import wave\n",
    " \n",
    "FORMAT = pyaudio.paInt16\n",
    "CHANNELS = 2\n",
    "RATE = 96000\n",
    "CHUNK = 1024\n",
    "RECORD_SECONDS = 5\n",
    "WAVE_OUTPUT_FILENAME = \"file.wav\"\n",
    "\n",
    "dev_index = 6\n",
    "\n",
    "# find SDR-Widget\n",
    "def find_device():\n",
    "    p = pyaudio.PyAudio()\n",
    "    info = p.get_host_api_info_by_index(0)\n",
    "    numdevices = info.get('deviceCount')\n",
    "    devnumber=-1\n",
    "    for i in range(0, numdevices):\n",
    "        if (p.get_device_info_by_host_api_device_index(0, i).get('maxInputChannels')) > 0:\n",
    "            print(\"Input Device id \", i, \" - \", p.get_device_info_by_host_api_device_index(0, i).get('name'))\n",
    "            if (p.get_device_info_by_host_api_device_index(0, i).get('name').find('Yoyodyne')==0):\n",
    "                devnumber=i\n",
    "    p.terminate()\n",
    "    return (devnumber)\n",
    "\n",
    "#dev_index = find_device()\n",
    "dev_index = 6\n",
    "print('SDR Widget:', dev_index)\n",
    "\n",
    "audio = pyaudio.PyAudio()\n",
    " \n",
    "# start Recording\n",
    "stream = audio.open(format=FORMAT, channels=CHANNELS,\n",
    "                rate=RATE, input=True,\n",
    "                frames_per_buffer=CHUNK,\n",
    "                input_device_index = dev_index)\n",
    "print (\"recording...\")\n",
    "frames = []\n",
    " \n",
    "for i in range(0, int(RATE / CHUNK * RECORD_SECONDS)):\n",
    "    data = stream.read(CHUNK)\n",
    "    frames.append(data)\n",
    "print (\"finished recording\")\n",
    " \n",
    " \n",
    "# stop Recording\n",
    "stream.stop_stream()\n",
    "stream.close()\n",
    "audio.terminate()\n",
    " \n",
    "waveFile = wave.open(WAVE_OUTPUT_FILENAME, 'wb')\n",
    "waveFile.setnchannels(CHANNELS)\n",
    "waveFile.setsampwidth(audio.get_sample_size(FORMAT))\n",
    "waveFile.setframerate(RATE)\n",
    "waveFile.writeframes(b''.join(frames))\n",
    "waveFile.close()"
   ]
  },
  {
   "cell_type": "markdown",
   "metadata": {},
   "source": [
    "## List of sound devices"
   ]
  },
  {
   "cell_type": "code",
   "execution_count": 4,
   "metadata": {},
   "outputs": [
    {
     "name": "stdout",
     "output_type": "stream",
     "text": [
      "Input Device id  0  -  HDA Intel PCH: ALC3246 Analog (hw:0,0)\n",
      "Input Device id  6  -  Yoyodyne SDR-Widget: USB Audio (hw:1,0)\n",
      "Input Device id  7  -  WD15 Dock: USB Audio (hw:2,0)\n",
      "Input Device id  9  -  sysdefault\n",
      "Input Device id  15  -  samplerate\n",
      "Input Device id  16  -  speexrate\n",
      "Input Device id  17  -  pulse\n",
      "Input Device id  18  -  upmix\n",
      "Input Device id  19  -  vdownmix\n",
      "Input Device id  21  -  default\n",
      "SDR Widget: 6\n"
     ]
    }
   ],
   "source": [
    "def find_device():\n",
    "    p = pyaudio.PyAudio()\n",
    "    info = p.get_host_api_info_by_index(0)\n",
    "    numdevices = info.get('deviceCount')\n",
    "    devnumber=-1\n",
    "    for i in range(0, numdevices):\n",
    "        if (p.get_device_info_by_host_api_device_index(0, i).get('maxInputChannels')) > 0:\n",
    "            print(\"Input Device id \", i, \" - \", p.get_device_info_by_host_api_device_index(0, i).get('name'))\n",
    "            if (p.get_device_info_by_host_api_device_index(0, i).get('name').find('Yoyodyne')==0):\n",
    "                devnumber=i\n",
    "    p.terminate()\n",
    "    return (devnumber)\n",
    "\n",
    "print('SDR Widget:',find_device())"
   ]
  },
  {
   "cell_type": "markdown",
   "metadata": {},
   "source": [
    "# Noise detect"
   ]
  },
  {
   "cell_type": "code",
   "execution_count": null,
   "metadata": {},
   "outputs": [
    {
     "name": "stdout",
     "output_type": "stream",
     "text": [
      "Input Device id  0  -  HDA Intel PCH: ALC3246 Analog (hw:0,0)\n",
      "Input Device id  6  -  Yoyodyne SDR-Widget: USB Audio (hw:1,0)\n",
      "Input Device id  7  -  WD15 Dock: USB Audio (hw:2,0)\n",
      "Input Device id  9  -  sysdefault\n",
      "Input Device id  15  -  samplerate\n",
      "Input Device id  16  -  speexrate\n",
      "Input Device id  17  -  pulse\n",
      "Input Device id  18  -  upmix\n",
      "Input Device id  19  -  vdownmix\n",
      "Input Device id  21  -  default\n",
      "SDR Widget: 6\n",
      "Listening beginning\n",
      "Noise detected, recording beginning\n",
      "Written to file: ./1608580668.wav\n",
      "Returning to listening\n"
     ]
    }
   ],
   "source": [
    "import pyaudio\n",
    "import math\n",
    "import struct\n",
    "import wave\n",
    "import time\n",
    "import os\n",
    "\n",
    "Threshold = 200\n",
    "\n",
    "SHORT_NORMALIZE = (1.0/32768.0)\n",
    "CHUNK = 1024\n",
    "FORMAT = pyaudio.paInt16\n",
    "CHANNELS = 2\n",
    "RATE = 96000\n",
    "swidth = 2\n",
    "\n",
    "TIMEOUT_LENGTH = 5 # in seconds\n",
    "\n",
    "f_name_directory = r'.'\n",
    "\n",
    "class Recorder:\n",
    "\n",
    "    @staticmethod\n",
    "    def rms(frame):\n",
    "        count = len(frame) / swidth\n",
    "        format = \"%dh\" % (count)\n",
    "        shorts = struct.unpack(format, frame)\n",
    "\n",
    "        sum_squares = 0.0\n",
    "        for sample in shorts:\n",
    "            n = sample * SHORT_NORMALIZE\n",
    "            sum_squares += n * n\n",
    "        rms = math.pow(sum_squares / count, 0.5)\n",
    "\n",
    "        return rms * 1000\n",
    "\n",
    "    def __init__(self):\n",
    "        self.dev_index = -1\n",
    "        self.p = pyaudio.PyAudio()\n",
    "        self.info = self.p.get_host_api_info_by_index(0)\n",
    "        self.numdevices = self.info.get('deviceCount')\n",
    "        for i in range(0, self.numdevices):\n",
    "            if (self.p.get_device_info_by_host_api_device_index(0, i).get('maxInputChannels')) > 0:\n",
    "                print(\"Input Device id \", i, \" - \", self.p.get_device_info_by_host_api_device_index(0, i).get('name'))\n",
    "                if (self.p.get_device_info_by_host_api_device_index(0, i).get('name').find('Yoyodyne')==0):\n",
    "                    self.dev_index = i\n",
    "        print('SDR Widget:', self.dev_index)\n",
    "        self.stream = self.p.open(format=FORMAT,\n",
    "                                  channels=CHANNELS,\n",
    "                                  rate=RATE,\n",
    "                                  input=True,\n",
    "                                  frames_per_buffer=CHUNK,\n",
    "                                  input_device_index = self.dev_index)\n",
    "\n",
    "    def record(self):\n",
    "        print('Noise detected, recording beginning')\n",
    "        rec = []\n",
    "        current = time.time()\n",
    "        end = time.time() + TIMEOUT_LENGTH\n",
    "\n",
    "        while current <= end:\n",
    "\n",
    "            data = self.stream.read(CHUNK)\n",
    "            if self.rms(data) >= Threshold: end = time.time() + TIMEOUT_LENGTH\n",
    "\n",
    "            current = time.time()\n",
    "            rec.append(data)\n",
    "        self.write(b''.join(rec))\n",
    "\n",
    "    def write(self, recording):\n",
    "        #n_files = len(os.listdir(f_name_directory))\n",
    "        n_files = str(time.time()).split('.')[0]\n",
    "        \n",
    "        filename = os.path.join(f_name_directory, '{}.wav'.format(n_files))\n",
    "\n",
    "        wf = wave.open(filename, 'wb')\n",
    "        wf.setnchannels(CHANNELS)\n",
    "        wf.setsampwidth(self.p.get_sample_size(FORMAT))\n",
    "        wf.setframerate(RATE)\n",
    "        wf.writeframes(recording)\n",
    "        wf.close()\n",
    "        print('Written to file: {}'.format(filename))\n",
    "        print('Returning to listening')\n",
    "\n",
    "\n",
    "\n",
    "    def listen(self):\n",
    "        print('Listening beginning')\n",
    "        while True:\n",
    "            input = self.stream.read(CHUNK)\n",
    "            rms_val = self.rms(input)\n",
    "            if rms_val > Threshold:\n",
    "                self.record()\n",
    "\n",
    "                \n",
    "    def close(self):\n",
    "        self.stream.close()\n",
    "                \n",
    "while (True):\n",
    "    try:\n",
    "        a = Recorder()\n",
    "\n",
    "        a.listen()\n",
    "    except:\n",
    "        a.close()\n",
    "        pass\n"
   ]
  },
  {
   "cell_type": "code",
   "execution_count": 1,
   "metadata": {
    "collapsed": true
   },
   "outputs": [
    {
     "name": "stdout",
     "output_type": "stream",
     "text": [
      "1608566008\n"
     ]
    }
   ],
   "source": [
    "import time\n",
    "print(str(time.time()).split('.')[0])"
   ]
  },
  {
   "cell_type": "code",
   "execution_count": null,
   "metadata": {},
   "outputs": [],
   "source": []
  }
 ],
 "metadata": {
  "kernelspec": {
   "display_name": "Python 3",
   "language": "python",
   "name": "python3"
  },
  "language_info": {
   "codemirror_mode": {
    "name": "ipython",
    "version": 3
   },
   "file_extension": ".py",
   "mimetype": "text/x-python",
   "name": "python",
   "nbconvert_exporter": "python",
   "pygments_lexer": "ipython3",
   "version": "3.8.5"
  }
 },
 "nbformat": 4,
 "nbformat_minor": 4
}
